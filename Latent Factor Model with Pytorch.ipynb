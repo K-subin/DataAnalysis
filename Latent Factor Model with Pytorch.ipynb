{
  "nbformat": 4,
  "nbformat_minor": 0,
  "metadata": {
    "colab": {
      "name": "Untitled1.ipynb",
      "provenance": []
    },
    "kernelspec": {
      "name": "python3",
      "display_name": "Python 3"
    }
  },
  "cells": [
    {
      "cell_type": "code",
      "metadata": {
        "id": "182pybTpSrRO",
        "outputId": "be37a224-57aa-4ac8-afc1-a5cd2f78f158",
        "colab": {
          "base_uri": "https://localhost:8080/"
        }
      },
      "source": [
        "!ls \"data\""
      ],
      "execution_count": 6,
      "outputs": [
        {
          "output_type": "stream",
          "text": [
            "ua.base  ua.test\n"
          ],
          "name": "stdout"
        }
      ]
    },
    {
      "cell_type": "code",
      "metadata": {
        "id": "66BSxG-xTIKC"
      },
      "source": [
        "import torch\n",
        "import pandas as pd\n",
        "import torch.nn.functional as F\n",
        "import matplotlib.pyplot as plt"
      ],
      "execution_count": 7,
      "outputs": []
    },
    {
      "cell_type": "code",
      "metadata": {
        "id": "5lpB75hNTktJ"
      },
      "source": [
        "train = pd.read_csv(\"data/ua.base\", sep=\"\\t\", names=['user', 'movie', 'rating', 'timestamp'])\n",
        "test = pd.read_csv(\"data/ua.test\", sep=\"\\t\", names=['user', 'movie', 'rating', 'timestamp'])"
      ],
      "execution_count": 8,
      "outputs": []
    },
    {
      "cell_type": "code",
      "metadata": {
        "id": "9P9kVxuAT2pB"
      },
      "source": [
        "items = torch.LongTensor(train['movie'])\n",
        "users = torch.LongTensor(train['user'])\n",
        "ratings = torch.FloatTensor(train['rating'])\n",
        "\n",
        "items_test = torch.LongTensor(test['movie'])\n",
        "users_test = torch.LongTensor(test['user'])\n",
        "ratings_test = torch.FloatTensor(test['rating'])"
      ],
      "execution_count": 19,
      "outputs": []
    },
    {
      "cell_type": "code",
      "metadata": {
        "id": "tuc469nMUrKW",
        "outputId": "4397189e-2351-4c6d-b587-22f9e03c9a87",
        "colab": {
          "base_uri": "https://localhost:8080/"
        }
      },
      "source": [
        "rank = 10\n",
        "numItems = items.max()+1\n",
        "numUsers = users.max()+1\n",
        "\n",
        "P = torch.randn(numItems, rank, requires_grad=True)\n",
        "Q = torch.randn(numUsers, rank, requires_grad=True)\n",
        "\n",
        "optimizer = torch.optim.Adam([P, Q], lr=0.1)\n",
        "\n",
        "X = []\n",
        "Y = []\n",
        "Y_test = []\n",
        "for epoch in range(1001):\n",
        "  hypothesis = torch.sum(P[items] * Q[users], dim=1)\n",
        "  mse = F.mse_loss(hypothesis, ratings)\n",
        "    \n",
        "  optimizer.zero_grad()\n",
        "  mse.backward()\n",
        "  optimizer.step()\n",
        "\n",
        "  with torch.no_grad():\n",
        "    hypo_test = torch.sum(P[items_test] * Q[users_test], dim=1)\n",
        "    mse_test = F.mse_loss(hypo_test, ratings_test)\n",
        "    \n",
        "    X.append(epoch)\n",
        "    Y.append(mse.item())\n",
        "    Y_test.append(mse_test.item())\n",
        "\n",
        "  if epoch % 100 == 0:\n",
        "    print(f\"epoch: {epoch}, cost:{mse.item():.6f}\") "
      ],
      "execution_count": 20,
      "outputs": [
        {
          "output_type": "stream",
          "text": [
            "epoch: 0, cost:23.121899\n",
            "epoch: 100, cost:0.568130\n",
            "epoch: 200, cost:0.491611\n",
            "epoch: 300, cost:0.469063\n",
            "epoch: 400, cost:0.458631\n",
            "epoch: 500, cost:0.453258\n",
            "epoch: 600, cost:0.449875\n",
            "epoch: 700, cost:0.447527\n",
            "epoch: 800, cost:0.445814\n",
            "epoch: 900, cost:0.444507\n",
            "epoch: 1000, cost:0.443367\n"
          ],
          "name": "stdout"
        }
      ]
    },
    {
      "cell_type": "code",
      "metadata": {
        "id": "vYwSHK-RYnIR",
        "outputId": "6c2f2e77-38ae-4d45-f7d2-1120681ef24d",
        "colab": {
          "base_uri": "https://localhost:8080/",
          "height": 279
        }
      },
      "source": [
        "plt.xlabel(\"epoch\")\n",
        "plt.ylabel(\"mse\")\n",
        "plt.plot(X, Y, label=\"trainig MSE\")\n",
        "plt.plot(X, Y_test, label=\"test MSE\")\n",
        "plt.legend()\n",
        "plt.show()"
      ],
      "execution_count": 21,
      "outputs": [
        {
          "output_type": "display_data",
          "data": {
            "image/png": "[encoded data removed]",
            "text/plain": [
              "<Figure size 432x288 with 1 Axes>"
            ]
          },
          "metadata": {
            "tags": [],
            "needs_background": "light"
          }
        }
      ]
    },
    {
      "cell_type": "code",
      "metadata": {
        "id": "dfc1RilXWHuG",
        "outputId": "6bb7bb48-98ef-40c1-e886-d37bb726f8ec",
        "colab": {
          "base_uri": "https://localhost:8080/"
        }
      },
      "source": [
        "rank = 10\n",
        "numItems = items.max()+1\n",
        "numUsers = users.max()+1\n",
        "\n",
        "P = torch.randn(numItems, rank, requires_grad=True)\n",
        "Q = torch.randn(numUsers, rank, requires_grad=True)\n",
        "\n",
        "optimizer = torch.optim.Adam([P, Q], lr=0.1)\n",
        "lambda1 = 0.0001\n",
        "lambda2 = 0.0001\n",
        "\n",
        "X = []\n",
        "Y = []\n",
        "Y_test = []\n",
        "for epoch in range(1001):\n",
        "  hypothesis = torch.sum(P[items] * Q[users], dim=1)\n",
        "  mse = F.mse_loss(hypothesis, ratings)\n",
        "  cost = mse + lambda1 * (P ** 2).sum() + lambda2 * (Q ** 2).sum()\n",
        "    \n",
        "  optimizer.zero_grad()\n",
        "  cost.backward()\n",
        "  optimizer.step()\n",
        "\n",
        "  with torch.no_grad():\n",
        "    hypo_test = torch.sum(P[items_test] * Q[users_test], dim=1)\n",
        "    mse_test = F.mse_loss(hypo_test, ratings_test)\n",
        "    \n",
        "    X.append(epoch)\n",
        "    Y.append(mse.item())\n",
        "    Y_test.append(mse_test.item())\n",
        "\n",
        "  if epoch % 100 == 0:\n",
        "    print(f\"epoch: {epoch}, cost:{mse.item():.6f}\") "
      ],
      "execution_count": 22,
      "outputs": [
        {
          "output_type": "stream",
          "text": [
            "epoch: 0, cost:23.465286\n",
            "epoch: 100, cost:0.705484\n",
            "epoch: 200, cost:0.644208\n",
            "epoch: 300, cost:0.632140\n",
            "epoch: 400, cost:0.628717\n",
            "epoch: 500, cost:0.627718\n",
            "epoch: 600, cost:0.627355\n",
            "epoch: 700, cost:0.627173\n",
            "epoch: 800, cost:0.627032\n",
            "epoch: 900, cost:0.626885\n",
            "epoch: 1000, cost:0.626706\n"
          ],
          "name": "stdout"
        }
      ]
    },
    {
      "cell_type": "code",
      "metadata": {
        "id": "FWVAjRl8s_hU",
        "outputId": "3513d146-47bf-4311-acfc-e7aedcfaa2a3",
        "colab": {
          "base_uri": "https://localhost:8080/",
          "height": 282
        }
      },
      "source": [
        "plt.xlabel(\"epoch\")\n",
        "plt.ylabel(\"mse\")\n",
        "plt.plot(X, Y, label=\"trainig MSE\")\n",
        "plt.plot(X, Y_test, label=\"test MSE\")\n",
        "plt.legend()\n",
        "plt.show()"
      ],
      "execution_count": 18,
      "outputs": [
        {
          "output_type": "display_data",
          "data": {
            "image/png": "[encoded data removed]",
            "text/plain": [
              "<Figure size 432x288 with 1 Axes>"
            ]
          },
          "metadata": {
            "tags": [],
            "needs_background": "light"
          }
        }
      ]
    },
    {
      "cell_type": "code",
      "metadata": {
        "id": "c_pL4neZtr7r",
        "outputId": "ee53b34f-d544-401a-896a-de9839795f5e",
        "colab": {
          "base_uri": "https://localhost:8080/"
        }
      },
      "source": [
        "rank = 10\n",
        "numItems = items.max()+1\n",
        "numUsers = users.max()+1\n",
        "\n",
        "P = torch.randn(numItems, rank, requires_grad=True)\n",
        "Q = torch.randn(numUsers, rank, requires_grad=True)\n",
        "bias_user = torch.randn(numUsers, requires_grad=True)\n",
        "bias_item = torch.randn(numItems, requires_grad=True)\n",
        "mean = ratings.sum()/len(ratings)\n",
        "\n",
        "optimizer = torch.optim.Adam([P, Q], lr=0.1)\n",
        "\n",
        "lambda1 = 0.0001\n",
        "lambda2 = 0.0001\n",
        "lambda3 = 0.001\n",
        "lambda4 = 0.001\n",
        "\n",
        "X = []\n",
        "Y = []\n",
        "Y_test = []\n",
        "for epoch in range(1001):\n",
        "  hypothesis = torch.sum(P[items] * Q[users], dim=1) + mean +\\\n",
        "    bias_item[items] + bias_user[users]\n",
        "  mse = F.mse_loss(hypothesis, ratings)\n",
        "  cost = mse + lambda1 * (P ** 2).sum() + lambda2 * (Q ** 2).sum() +\\\n",
        "    lambda3 * (bias_item ** 2).sum() + lambda4 * (bias_user ** 2).sum()\n",
        "    \n",
        "  optimizer.zero_grad()\n",
        "  cost.backward()\n",
        "  optimizer.step()\n",
        "\n",
        "  with torch.no_grad():\n",
        "    hypo_test = torch.sum(P[items_test] * Q[users_test], dim=1) + mean +\\\n",
        "      bias_item[items_test] + bias_user[users_test]\n",
        "    mse_test = F.mse_loss(hypo_test, ratings_test)\n",
        "    \n",
        "    X.append(epoch)\n",
        "    Y.append(mse.item())\n",
        "    Y_test.append(mse_test.item())\n",
        "\n",
        "  if epoch % 100 == 0:\n",
        "    print(f\"epoch: {epoch}, cost:{mse.item():.6f}\") "
      ],
      "execution_count": 23,
      "outputs": [
        {
          "output_type": "stream",
          "text": [
            "epoch: 0, cost:13.264574\n",
            "epoch: 100, cost:0.674353\n",
            "epoch: 200, cost:0.640875\n",
            "epoch: 300, cost:0.636680\n",
            "epoch: 400, cost:0.635616\n",
            "epoch: 500, cost:0.635153\n",
            "epoch: 600, cost:0.634990\n",
            "epoch: 700, cost:0.634962\n",
            "epoch: 800, cost:0.634990\n",
            "epoch: 900, cost:0.635030\n",
            "epoch: 1000, cost:0.635062\n"
          ],
          "name": "stdout"
        }
      ]
    },
    {
      "cell_type": "code",
      "metadata": {
        "id": "6H1aKCPXuwRe",
        "outputId": "ab0126bd-48fa-4f41-bbd4-2862525588dc",
        "colab": {
          "base_uri": "https://localhost:8080/",
          "height": 279
        }
      },
      "source": [
        "plt.xlabel(\"epoch\")\n",
        "plt.ylabel(\"mse\")\n",
        "plt.plot(X, Y, label=\"trainig MSE\")\n",
        "plt.plot(X, Y_test, label=\"test MSE\")\n",
        "plt.legend()\n",
        "plt.show()"
      ],
      "execution_count": 24,
      "outputs": [
        {
          "output_type": "display_data",
          "data": {
            "image/png": "[encoded data removed]",
            "text/plain": [
              "<Figure size 432x288 with 1 Axes>"
            ]
          },
          "metadata": {
            "tags": [],
            "needs_background": "light"
          }
        }
      ]
    },
    {
      "cell_type": "code",
      "metadata": {
        "id": "HntMxugFu5Yy",
        "outputId": "572b33b7-c7d3-42cf-884d-aacb9aaba7a6",
        "colab": {
          "base_uri": "https://localhost:8080/"
        }
      },
      "source": [
        "rank = 100\n",
        "numItems = items.max()+1\n",
        "numUsers = users.max()+1\n",
        "\n",
        "P = torch.randn(numItems, rank, requires_grad=True)\n",
        "Q = torch.randn(numUsers, rank, requires_grad=True)\n",
        "bias_user = torch.randn(numUsers, requires_grad=True)\n",
        "bias_item = torch.randn(numItems, requires_grad=True)\n",
        "mean = ratings.sum()/len(ratings)\n",
        "\n",
        "optimizer = torch.optim.Adam([P, Q], lr=0.1)\n",
        "\n",
        "lambda1 = 0.00001\n",
        "lambda2 = 0.00001\n",
        "lambda3 = 0.0001\n",
        "lambda4 = 0.0001\n",
        "\n",
        "X = []\n",
        "Y = []\n",
        "Y_test = []\n",
        "for epoch in range(1001):\n",
        "  hypothesis = torch.sum(P[items] * Q[users], dim=1) + mean +\\\n",
        "    bias_item[items] + bias_user[users]\n",
        "  mse = F.mse_loss(hypothesis, ratings)\n",
        "  cost = mse + lambda1 * (P ** 2).sum() + lambda2 * (Q ** 2).sum() +\\\n",
        "    lambda3 * (bias_item ** 2).sum() + lambda4 * (bias_user ** 2).sum()\n",
        "    \n",
        "  optimizer.zero_grad()\n",
        "  cost.backward()\n",
        "  optimizer.step()\n",
        "\n",
        "  with torch.no_grad():\n",
        "    hypo_test = torch.sum(P[items_test] * Q[users_test], dim=1) + mean +\\\n",
        "      bias_item[items_test] + bias_user[users_test]\n",
        "    mse_test = F.mse_loss(hypo_test, ratings_test)\n",
        "    \n",
        "    X.append(epoch)\n",
        "    Y.append(mse.item())\n",
        "    Y_test.append(mse_test.item())\n",
        "\n",
        "  if epoch % 100 == 0:\n",
        "    print(f\"epoch: {epoch}, cost:{mse.item():.6f}\") "
      ],
      "execution_count": 25,
      "outputs": [
        {
          "output_type": "stream",
          "text": [
            "epoch: 0, cost:104.981728\n",
            "epoch: 100, cost:0.065153\n",
            "epoch: 200, cost:0.021232\n",
            "epoch: 300, cost:0.012111\n",
            "epoch: 400, cost:0.009074\n",
            "epoch: 500, cost:0.007787\n",
            "epoch: 600, cost:0.007132\n",
            "epoch: 700, cost:0.006728\n",
            "epoch: 800, cost:0.006446\n",
            "epoch: 900, cost:0.006240\n",
            "epoch: 1000, cost:0.006082\n"
          ],
          "name": "stdout"
        }
      ]
    },
    {
      "cell_type": "code",
      "metadata": {
        "id": "5l-WkU97vTyz",
        "outputId": "46f7caf0-af37-409a-9b83-6cd656b50c53",
        "colab": {
          "base_uri": "https://localhost:8080/",
          "height": 279
        }
      },
      "source": [
        "plt.xlabel(\"epoch\")\n",
        "plt.ylabel(\"mse\")\n",
        "plt.plot(X, Y, label=\"trainig MSE\")\n",
        "plt.plot(X, Y_test, label=\"test MSE\")\n",
        "plt.legend()\n",
        "plt.show()"
      ],
      "execution_count": 26,
      "outputs": [
        {
          "output_type": "display_data",
          "data": {
            "image/png": "[encoded data removed]",
            "text/plain": [
              "<Figure size 432x288 with 1 Axes>"
            ]
          },
          "metadata": {
            "tags": [],
            "needs_background": "light"
          }
        }
      ]
    }
  ]
}