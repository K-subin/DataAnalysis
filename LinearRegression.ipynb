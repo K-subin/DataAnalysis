{
  "nbformat": 4,
  "nbformat_minor": 0,
  "metadata": {
    "colab": {
      "name": "p01_김수빈_20182209.ipynb",
      "provenance": [],
      "collapsed_sections": []
    },
    "kernelspec": {
      "name": "python3",
      "display_name": "Python 3"
    }
  },
  "cells": [
    {
      "cell_type": "code",
      "metadata": {
        "id": "dpntXJKbDuT2"
      },
      "source": [
        "import torch\n",
        "import pandas as pd\n",
        "import numpy as np\n",
        "import matplotlib.pyplot as plt"
      ],
      "execution_count": null,
      "outputs": []
    },
    {
      "cell_type": "code",
      "metadata": {
        "id": "iD1QMRR6DyHH",
        "colab": {
          "base_uri": "https://localhost:8080/",
          "height": 402
        },
        "outputId": "98fabcf0-73e9-45c4-a896-26e91c91d834"
      },
      "source": [
        "meta = pd.read_csv(\"./p01_input.csv\", encoding='CP949')\n",
        "meta = meta[ ['키', '몸무게'] ]\n",
        "meta = meta.dropna(axis=0) # nan 값이 존재하는 행 삭제\n",
        "meta"
      ],
      "execution_count": null,
      "outputs": [
        {
          "output_type": "execute_result",
          "data": {
            "text/html": [
              "<div>\n",
              "<style scoped>\n",
              "    .dataframe tbody tr th:only-of-type {\n",
              "        vertical-align: middle;\n",
              "    }\n",
              "\n",
              "    .dataframe tbody tr th {\n",
              "        vertical-align: top;\n",
              "    }\n",
              "\n",
              "    .dataframe thead th {\n",
              "        text-align: right;\n",
              "    }\n",
              "</style>\n",
              "<table border=\"1\" class=\"dataframe\">\n",
              "  <thead>\n",
              "    <tr style=\"text-align: right;\">\n",
              "      <th></th>\n",
              "      <th>키</th>\n",
              "      <th>몸무게</th>\n",
              "    </tr>\n",
              "  </thead>\n",
              "  <tbody>\n",
              "    <tr>\n",
              "      <th>0</th>\n",
              "      <td>125.8</td>\n",
              "      <td>27.3</td>\n",
              "    </tr>\n",
              "    <tr>\n",
              "      <th>1</th>\n",
              "      <td>124.3</td>\n",
              "      <td>25.4</td>\n",
              "    </tr>\n",
              "    <tr>\n",
              "      <th>2</th>\n",
              "      <td>119.2</td>\n",
              "      <td>23.5</td>\n",
              "    </tr>\n",
              "    <tr>\n",
              "      <th>3</th>\n",
              "      <td>115.0</td>\n",
              "      <td>20.0</td>\n",
              "    </tr>\n",
              "    <tr>\n",
              "      <th>4</th>\n",
              "      <td>120.0</td>\n",
              "      <td>33.5</td>\n",
              "    </tr>\n",
              "    <tr>\n",
              "      <th>...</th>\n",
              "      <td>...</td>\n",
              "      <td>...</td>\n",
              "    </tr>\n",
              "    <tr>\n",
              "      <th>9681</th>\n",
              "      <td>176.1</td>\n",
              "      <td>50.4</td>\n",
              "    </tr>\n",
              "    <tr>\n",
              "      <th>9682</th>\n",
              "      <td>174.1</td>\n",
              "      <td>88.8</td>\n",
              "    </tr>\n",
              "    <tr>\n",
              "      <th>9683</th>\n",
              "      <td>169.5</td>\n",
              "      <td>63.2</td>\n",
              "    </tr>\n",
              "    <tr>\n",
              "      <th>9684</th>\n",
              "      <td>159.2</td>\n",
              "      <td>52.9</td>\n",
              "    </tr>\n",
              "    <tr>\n",
              "      <th>9685</th>\n",
              "      <td>162.0</td>\n",
              "      <td>67.7</td>\n",
              "    </tr>\n",
              "  </tbody>\n",
              "</table>\n",
              "<p>9682 rows × 2 columns</p>\n",
              "</div>"
            ],
            "text/plain": [
              "          키   몸무게\n",
              "0     125.8  27.3\n",
              "1     124.3  25.4\n",
              "2     119.2  23.5\n",
              "3     115.0  20.0\n",
              "4     120.0  33.5\n",
              "...     ...   ...\n",
              "9681  176.1  50.4\n",
              "9682  174.1  88.8\n",
              "9683  169.5  63.2\n",
              "9684  159.2  52.9\n",
              "9685  162.0  67.7\n",
              "\n",
              "[9682 rows x 2 columns]"
            ]
          },
          "metadata": {
            "tags": []
          },
          "execution_count": 3
        }
      ]
    },
    {
      "cell_type": "code",
      "metadata": {
        "id": "xxflRQgFdcMQ",
        "colab": {
          "base_uri": "https://localhost:8080/"
        },
        "outputId": "8bc1cad9-d255-42b8-e0cd-f3e718cbab69"
      },
      "source": [
        "height = meta['키'].mean()\n",
        "weight = meta['몸무게'].mean()\n",
        "\n",
        "print(f'학생들의 평균 키 = {height}, 학생들의 평균 몸무게 = {weight}')"
      ],
      "execution_count": null,
      "outputs": [
        {
          "output_type": "stream",
          "text": [
            "학생들의 평균 키 = 154.56483164635458, 학생들의 평균 몸무게 = 50.20759140673406\n"
          ],
          "name": "stdout"
        }
      ]
    },
    {
      "cell_type": "code",
      "metadata": {
        "id": "Lfih8eT4kUja",
        "colab": {
          "base_uri": "https://localhost:8080/"
        },
        "outputId": "8706acc3-22a9-400a-9d80-0bf65caca92e"
      },
      "source": [
        "def pearson_similarity(u1, u2):\n",
        "    u1_c = u1 - u1.mean()\n",
        "    u2_c = u2 - u2.mean()\n",
        "    denom = ((u1_c ** 2).sum() * (u2_c ** 2).sum()) ** 0.5\n",
        "    if denom == 0:\n",
        "        return 0\n",
        "    else:\n",
        "        return (u1_c * u2_c).sum() / denom\n",
        "    \n",
        "pearson = pearson_similarity(meta['키'], meta['몸무게'])\n",
        "print(f'키와 몸무게 사이의 상관관계 = {pearson}')"
      ],
      "execution_count": null,
      "outputs": [
        {
          "output_type": "stream",
          "text": [
            "키와 몸무게 사이의 상관관계 = 0.8490058387689018\n"
          ],
          "name": "stdout"
        }
      ]
    },
    {
      "cell_type": "code",
      "metadata": {
        "id": "imF0oWz7k0bO",
        "colab": {
          "base_uri": "https://localhost:8080/"
        },
        "outputId": "84122a5f-08e9-4e15-a2d8-8eb927c1aa58"
      },
      "source": [
        "x_train = torch.FloatTensor(meta['키'])\n",
        "x_train = torch.unsqueeze(x_train, 1)\n",
        "y_train = torch.FloatTensor(meta['몸무게'])\n",
        "y_train = torch.unsqueeze(y_train, 1)\n",
        "print(f'x_train : {x_train}')\n",
        "print(f'y_train : {y_train}')"
      ],
      "execution_count": null,
      "outputs": [
        {
          "output_type": "stream",
          "text": [
            "x_train : tensor([[125.8000],\n",
            "        [124.3000],\n",
            "        [119.2000],\n",
            "        ...,\n",
            "        [169.5000],\n",
            "        [159.2000],\n",
            "        [162.0000]])\n",
            "y_train : tensor([[27.3000],\n",
            "        [25.4000],\n",
            "        [23.5000],\n",
            "        ...,\n",
            "        [63.2000],\n",
            "        [52.9000],\n",
            "        [67.7000]])\n"
          ],
          "name": "stdout"
        }
      ]
    },
    {
      "cell_type": "code",
      "metadata": {
        "id": "PIoeO7OnrUKO",
        "colab": {
          "base_uri": "https://localhost:8080/"
        },
        "outputId": "400bf598-81a2-45ed-9dbe-035cce185ae8"
      },
      "source": [
        "# ===============================================\n",
        "# 1번 방법 : 기존의 경사하강법 이용해서 학습하기\n",
        "# cost가 천천히 줄어들어 많은 반복이 필요하다.\n",
        "# ===============================================\n",
        "\n",
        "# w, b 초기화\n",
        "W = torch.zeros(1,1)\n",
        "b = torch.zeros(1,1)\n",
        "\n",
        "# v 초기화\n",
        "vW = torch.zeros(1,1)\n",
        "vb = torch.zeros(1,1)\n",
        "\n",
        "# learning rate, momentum 설정\n",
        "lr = 0.000041\n",
        "momentum = 0.999\n",
        "\n",
        "for epoch in range(3000001):\n",
        "  W.requires_grad_(True)\n",
        "  b.requires_grad_(True)\n",
        "\n",
        "  hypothesis = torch.mm(x_train, W) + b\n",
        "  cost = torch.mean((hypothesis - y_train) ** 2)\n",
        " \n",
        "  cost.backward()\n",
        "\n",
        "  with torch.no_grad():\n",
        "    W = W - lr * W.grad \n",
        "    b = b - lr * b.grad\n",
        "\n",
        "  if epoch % 300000 == 0:\n",
        "    print(f'epoch : {epoch}, cost : {cost.item():6f}, W : {W.squeeze()}, b : {b.squeeze()}')"
      ],
      "execution_count": null,
      "outputs": [
        {
          "output_type": "stream",
          "text": [
            "epoch : 0, cost : 2812.360352, W : 0.6565200686454773, b : 0.004117022268474102\n",
            "epoch : 300000, cost : 125.788696, W : 0.4639871120452881, b : -20.781396865844727\n",
            "epoch : 600000, cost : 106.089615, W : 0.5631879568099976, b : -36.2991828918457\n",
            "epoch : 900000, cost : 95.148193, W : 0.6370483636856079, b : -47.853153228759766\n",
            "epoch : 1200000, cost : 89.032646, W : 0.6924083828926086, b : -56.51287841796875\n",
            "epoch : 1500000, cost : 85.678581, W : 0.73307204246521, b : -62.87387466430664\n",
            "epoch : 1800000, cost : 83.784782, W : 0.7637760043144226, b : -67.6767349243164\n",
            "epoch : 2100000, cost : 82.748520, W : 0.7862093448638916, b : -71.18594360351562\n",
            "epoch : 2400000, cost : 82.230713, W : 0.8008407950401306, b : -73.47476196289062\n",
            "epoch : 2700000, cost : 81.837715, W : 0.8154730200767517, b : -75.76358032226562\n",
            "epoch : 3000000, cost : 81.580109, W : 0.8293612599372864, b : -77.93632507324219\n"
          ],
          "name": "stdout"
        }
      ]
    },
    {
      "cell_type": "code",
      "metadata": {
        "id": "vJWDwfNwmTEG",
        "colab": {
          "base_uri": "https://localhost:8080/"
        },
        "outputId": "23ad2222-393f-4574-bcb4-c1e25d6a3085"
      },
      "source": [
        "# ===============================================\n",
        "# 2번 방법 : optimizer - momentum 경사하강법을 직접 구현하여 학습하기\n",
        "# momentum은 가중치를 수정하기 전에, 이전 수정 방향을 참고하여 같은 방향으로 일정한 비율만 수정되도록 하는 방법\n",
        "# optimizer을 사용하면 많은 반복이 필요하지 않다.\n",
        "# ===============================================\n",
        "\n",
        "# w, b 초기화\n",
        "W = torch.zeros(1,1)\n",
        "b = torch.zeros(1,1)\n",
        "\n",
        "# v 초기화\n",
        "vW = torch.zeros(1,1)\n",
        "vb = torch.zeros(1,1)\n",
        "\n",
        "# learning rate, momentum 설정\n",
        "lr = 0.00001\n",
        "momentum = 0.999\n",
        "\n",
        "for epoch in range(45001):\n",
        "  W.requires_grad_(True)\n",
        "  b.requires_grad_(True)\n",
        "\n",
        "  hypothesis = torch.mm(x_train, W) + b\n",
        "  cost = torch.mean((hypothesis - y_train) ** 2)\n",
        " \n",
        "  cost.backward()\n",
        "\n",
        "  with torch.no_grad():\n",
        "    vW = momentum * vW - lr * W.grad\n",
        "    W = W + vW\n",
        "    \n",
        "    vb = momentum * vb - lr * b.grad\n",
        "    b = b + vb\n",
        "\n",
        "  if epoch % 3000 == 0:\n",
        "    print(f'epoch : {epoch}, cost : {cost.item():6f}, W : {W.squeeze()}, b : {b.squeeze()}')"
      ],
      "execution_count": null,
      "outputs": [
        {
          "output_type": "stream",
          "text": [
            "epoch : 0, cost : 2812.360352, W : 0.16012683510780334, b : 0.0010041517671197653\n",
            "epoch : 3000, cost : 108.219948, W : 0.6075631976127625, b : -34.74256896972656\n",
            "epoch : 6000, cost : 92.277596, W : 0.7544881701469421, b : -63.763675689697266\n",
            "epoch : 9000, cost : 81.953209, W : 0.8143131732940674, b : -75.67730712890625\n",
            "epoch : 12000, cost : 81.455017, W : 0.8406320810317993, b : -79.83409118652344\n",
            "epoch : 15000, cost : 81.405342, W : 0.8501144647598267, b : -81.19580078125\n",
            "epoch : 18000, cost : 81.400291, W : 0.8530012369155884, b : -81.62914276123047\n",
            "epoch : 21000, cost : 81.399872, W : 0.8538458943367004, b : -81.7650375366211\n",
            "epoch : 24000, cost : 81.399826, W : 0.8541054725646973, b : -81.80683135986328\n",
            "epoch : 27000, cost : 81.399826, W : 0.8541840314865112, b : -81.81909942626953\n",
            "epoch : 30000, cost : 81.399826, W : 0.8541840314865112, b : -81.81909942626953\n",
            "epoch : 33000, cost : 81.399818, W : 0.8541839718818665, b : -81.81909942626953\n",
            "epoch : 36000, cost : 81.399826, W : 0.8541831374168396, b : -81.81909942626953\n",
            "epoch : 39000, cost : 81.399818, W : 0.8541836142539978, b : -81.81909942626953\n",
            "epoch : 42000, cost : 81.399826, W : 0.8541845083236694, b : -81.81909942626953\n",
            "epoch : 45000, cost : 81.399818, W : 0.854184091091156, b : -81.81909942626953\n"
          ],
          "name": "stdout"
        }
      ]
    },
    {
      "cell_type": "code",
      "metadata": {
        "id": "pG4YfZuW7GlL",
        "colab": {
          "base_uri": "https://localhost:8080/",
          "height": 279
        },
        "outputId": "a10e841f-1dd4-4631-84f4-98949815c5bb"
      },
      "source": [
        "# Matplotlib으로 결과 시각화\n",
        "\n",
        "W.requires_grad_(False)\n",
        "b.requires_grad_(False)\n",
        "\n",
        "plt.scatter(x_train, y_train, c=\"black\", s=0.3, label=\"Training data\")\n",
        "\n",
        "X = x_train\n",
        "Y = torch.mm(X, W)+b\n",
        "plt.plot(X, Y, c=\"red\", label=\"Fitting line\")\n",
        "plt.legend()\n",
        "\n",
        "plt.ylabel(\"weight\")\n",
        "plt.xlabel(\"height\")\n",
        "\n",
        "plt.show()"
      ],
      "execution_count": null,
      "outputs": [
        {
          "output_type": "display_data",
          "data": {
            "image/png": "[encoded data removed]",
            "text/plain": [
              "<Figure size 432x288 with 1 Axes>"
            ]
          },
          "metadata": {
            "tags": [],
            "needs_background": "light"
          }
        }
      ]
    },
    {
      "cell_type": "code",
      "metadata": {
        "id": "cUjUVWmaMyMx",
        "colab": {
          "base_uri": "https://localhost:8080/"
        },
        "outputId": "4eaff388-60d4-4d18-b5d8-d8b7dbcb0894"
      },
      "source": [
        "x_test = torch.FloatTensor([[180]])\n",
        "test_result = torch.mm(x_test, W) + b\n",
        "print(test_result)"
      ],
      "execution_count": null,
      "outputs": [
        {
          "output_type": "stream",
          "text": [
            "tensor([[71.9340]])\n"
          ],
          "name": "stdout"
        }
      ]
    }
  ]
}